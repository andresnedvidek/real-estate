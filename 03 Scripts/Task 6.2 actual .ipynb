{
 "cells": [
  {
   "cell_type": "code",
   "execution_count": 1,
   "id": "0c0b79e0",
   "metadata": {},
   "outputs": [],
   "source": [
    "import pandas as pd\n",
    "import numpy as np\n",
    "import seaborn as sns\n",
    "import matplotlib.pyplot as plt\n",
    "import matplotlib\n",
    "import os"
   ]
  },
  {
   "cell_type": "code",
   "execution_count": 2,
   "id": "fbfb8cc8",
   "metadata": {},
   "outputs": [],
   "source": [
    "path = r'/Users/andrenedvidek/Desktop/Data Analaysis/CareerFoundry /Data Emersion /Task 6.1/02 Data/Prepared Data'"
   ]
  },
  {
   "cell_type": "code",
   "execution_count": 3,
   "id": "d607b211",
   "metadata": {},
   "outputs": [],
   "source": [
    "df_realtor = pd.read_pickle(os.path.join(path,'realtor-data_clean.pkl'))"
   ]
  },
  {
   "cell_type": "code",
   "execution_count": 4,
   "id": "26fca036",
   "metadata": {},
   "outputs": [
    {
     "data": {
      "text/html": [
       "<div>\n",
       "<style scoped>\n",
       "    .dataframe tbody tr th:only-of-type {\n",
       "        vertical-align: middle;\n",
       "    }\n",
       "\n",
       "    .dataframe tbody tr th {\n",
       "        vertical-align: top;\n",
       "    }\n",
       "\n",
       "    .dataframe thead th {\n",
       "        text-align: right;\n",
       "    }\n",
       "</style>\n",
       "<table border=\"1\" class=\"dataframe\">\n",
       "  <thead>\n",
       "    <tr style=\"text-align: right;\">\n",
       "      <th></th>\n",
       "      <th>status</th>\n",
       "      <th>price</th>\n",
       "      <th>bed</th>\n",
       "      <th>bath</th>\n",
       "      <th>acre_lot</th>\n",
       "      <th>street</th>\n",
       "      <th>city</th>\n",
       "      <th>state</th>\n",
       "      <th>zip_code</th>\n",
       "      <th>house_size</th>\n",
       "      <th>prev_sold_date</th>\n",
       "    </tr>\n",
       "  </thead>\n",
       "  <tbody>\n",
       "    <tr>\n",
       "      <th>0</th>\n",
       "      <td>for_sale</td>\n",
       "      <td>105000.0</td>\n",
       "      <td>3.0</td>\n",
       "      <td>2.0</td>\n",
       "      <td>0.12</td>\n",
       "      <td>1962661.0</td>\n",
       "      <td>Adjuntas</td>\n",
       "      <td>Puerto Rico</td>\n",
       "      <td>601.0</td>\n",
       "      <td>920.0</td>\n",
       "      <td>NaN</td>\n",
       "    </tr>\n",
       "    <tr>\n",
       "      <th>1</th>\n",
       "      <td>for_sale</td>\n",
       "      <td>80000.0</td>\n",
       "      <td>4.0</td>\n",
       "      <td>2.0</td>\n",
       "      <td>0.08</td>\n",
       "      <td>1902874.0</td>\n",
       "      <td>Adjuntas</td>\n",
       "      <td>Puerto Rico</td>\n",
       "      <td>601.0</td>\n",
       "      <td>1527.0</td>\n",
       "      <td>NaN</td>\n",
       "    </tr>\n",
       "    <tr>\n",
       "      <th>2</th>\n",
       "      <td>for_sale</td>\n",
       "      <td>67000.0</td>\n",
       "      <td>2.0</td>\n",
       "      <td>1.0</td>\n",
       "      <td>0.15</td>\n",
       "      <td>1404990.0</td>\n",
       "      <td>Juana Diaz</td>\n",
       "      <td>Puerto Rico</td>\n",
       "      <td>795.0</td>\n",
       "      <td>748.0</td>\n",
       "      <td>NaN</td>\n",
       "    </tr>\n",
       "    <tr>\n",
       "      <th>3</th>\n",
       "      <td>for_sale</td>\n",
       "      <td>145000.0</td>\n",
       "      <td>4.0</td>\n",
       "      <td>2.0</td>\n",
       "      <td>0.10</td>\n",
       "      <td>1947675.0</td>\n",
       "      <td>Ponce</td>\n",
       "      <td>Puerto Rico</td>\n",
       "      <td>731.0</td>\n",
       "      <td>1800.0</td>\n",
       "      <td>NaN</td>\n",
       "    </tr>\n",
       "    <tr>\n",
       "      <th>4</th>\n",
       "      <td>for_sale</td>\n",
       "      <td>65000.0</td>\n",
       "      <td>6.0</td>\n",
       "      <td>2.0</td>\n",
       "      <td>0.05</td>\n",
       "      <td>331151.0</td>\n",
       "      <td>Mayaguez</td>\n",
       "      <td>Puerto Rico</td>\n",
       "      <td>680.0</td>\n",
       "      <td>NaN</td>\n",
       "      <td>NaN</td>\n",
       "    </tr>\n",
       "  </tbody>\n",
       "</table>\n",
       "</div>"
      ],
      "text/plain": [
       "     status     price  bed  bath  acre_lot     street        city  \\\n",
       "0  for_sale  105000.0  3.0   2.0      0.12  1962661.0    Adjuntas   \n",
       "1  for_sale   80000.0  4.0   2.0      0.08  1902874.0    Adjuntas   \n",
       "2  for_sale   67000.0  2.0   1.0      0.15  1404990.0  Juana Diaz   \n",
       "3  for_sale  145000.0  4.0   2.0      0.10  1947675.0       Ponce   \n",
       "4  for_sale   65000.0  6.0   2.0      0.05   331151.0    Mayaguez   \n",
       "\n",
       "         state  zip_code  house_size prev_sold_date  \n",
       "0  Puerto Rico     601.0       920.0            NaN  \n",
       "1  Puerto Rico     601.0      1527.0            NaN  \n",
       "2  Puerto Rico     795.0       748.0            NaN  \n",
       "3  Puerto Rico     731.0      1800.0            NaN  \n",
       "4  Puerto Rico     680.0         NaN            NaN  "
      ]
     },
     "execution_count": 4,
     "metadata": {},
     "output_type": "execute_result"
    }
   ],
   "source": [
    "df_realtor.head()"
   ]
  },
  {
   "cell_type": "code",
   "execution_count": 5,
   "id": "96550b18",
   "metadata": {},
   "outputs": [
    {
     "data": {
      "text/plain": [
       "status             object\n",
       "price             float64\n",
       "bed               float64\n",
       "bath              float64\n",
       "acre_lot          float64\n",
       "street            float64\n",
       "city               object\n",
       "state              object\n",
       "zip_code          float64\n",
       "house_size        float64\n",
       "prev_sold_date     object\n",
       "dtype: object"
      ]
     },
     "execution_count": 5,
     "metadata": {},
     "output_type": "execute_result"
    }
   ],
   "source": [
    "df_realtor.dtypes"
   ]
  },
  {
   "cell_type": "code",
   "execution_count": 6,
   "id": "bae60b35",
   "metadata": {},
   "outputs": [],
   "source": [
    "# pick out only numerical columns so I can perform correlation analysis\n",
    "\n",
    "columns_keep = ['price', 'bed', 'bath', 'acre_lot', 'house_size',]"
   ]
  },
  {
   "cell_type": "code",
   "execution_count": 7,
   "id": "329848aa",
   "metadata": {},
   "outputs": [],
   "source": [
    "#create new datafram with only the numberical columns \n",
    "df_for_corr = df_realtor[columns_keep].copy()"
   ]
  },
  {
   "cell_type": "code",
   "execution_count": 8,
   "id": "d1942f42",
   "metadata": {},
   "outputs": [
    {
     "data": {
      "text/html": [
       "<div>\n",
       "<style scoped>\n",
       "    .dataframe tbody tr th:only-of-type {\n",
       "        vertical-align: middle;\n",
       "    }\n",
       "\n",
       "    .dataframe tbody tr th {\n",
       "        vertical-align: top;\n",
       "    }\n",
       "\n",
       "    .dataframe thead th {\n",
       "        text-align: right;\n",
       "    }\n",
       "</style>\n",
       "<table border=\"1\" class=\"dataframe\">\n",
       "  <thead>\n",
       "    <tr style=\"text-align: right;\">\n",
       "      <th></th>\n",
       "      <th>price</th>\n",
       "      <th>bed</th>\n",
       "      <th>bath</th>\n",
       "      <th>acre_lot</th>\n",
       "      <th>house_size</th>\n",
       "    </tr>\n",
       "  </thead>\n",
       "  <tbody>\n",
       "    <tr>\n",
       "      <th>0</th>\n",
       "      <td>105000.0</td>\n",
       "      <td>3.0</td>\n",
       "      <td>2.0</td>\n",
       "      <td>0.12</td>\n",
       "      <td>920.0</td>\n",
       "    </tr>\n",
       "    <tr>\n",
       "      <th>1</th>\n",
       "      <td>80000.0</td>\n",
       "      <td>4.0</td>\n",
       "      <td>2.0</td>\n",
       "      <td>0.08</td>\n",
       "      <td>1527.0</td>\n",
       "    </tr>\n",
       "    <tr>\n",
       "      <th>2</th>\n",
       "      <td>67000.0</td>\n",
       "      <td>2.0</td>\n",
       "      <td>1.0</td>\n",
       "      <td>0.15</td>\n",
       "      <td>748.0</td>\n",
       "    </tr>\n",
       "    <tr>\n",
       "      <th>3</th>\n",
       "      <td>145000.0</td>\n",
       "      <td>4.0</td>\n",
       "      <td>2.0</td>\n",
       "      <td>0.10</td>\n",
       "      <td>1800.0</td>\n",
       "    </tr>\n",
       "    <tr>\n",
       "      <th>4</th>\n",
       "      <td>65000.0</td>\n",
       "      <td>6.0</td>\n",
       "      <td>2.0</td>\n",
       "      <td>0.05</td>\n",
       "      <td>NaN</td>\n",
       "    </tr>\n",
       "  </tbody>\n",
       "</table>\n",
       "</div>"
      ],
      "text/plain": [
       "      price  bed  bath  acre_lot  house_size\n",
       "0  105000.0  3.0   2.0      0.12       920.0\n",
       "1   80000.0  4.0   2.0      0.08      1527.0\n",
       "2   67000.0  2.0   1.0      0.15       748.0\n",
       "3  145000.0  4.0   2.0      0.10      1800.0\n",
       "4   65000.0  6.0   2.0      0.05         NaN"
      ]
     },
     "execution_count": 8,
     "metadata": {},
     "output_type": "execute_result"
    }
   ],
   "source": [
    "df_for_corr.head()"
   ]
  },
  {
   "cell_type": "markdown",
   "id": "bdb389d1",
   "metadata": {},
   "source": [
    "### I want to cross reference Data Price and State as well as city \n",
    "### I also want to compare the property size with the state and city \n",
    "### Look at what the strongest predictors for price are among the skews \n"
   ]
  },
  {
   "cell_type": "code",
   "execution_count": 9,
   "id": "2eca214a",
   "metadata": {},
   "outputs": [
    {
     "data": {
      "text/html": [
       "<div>\n",
       "<style scoped>\n",
       "    .dataframe tbody tr th:only-of-type {\n",
       "        vertical-align: middle;\n",
       "    }\n",
       "\n",
       "    .dataframe tbody tr th {\n",
       "        vertical-align: top;\n",
       "    }\n",
       "\n",
       "    .dataframe thead th {\n",
       "        text-align: right;\n",
       "    }\n",
       "</style>\n",
       "<table border=\"1\" class=\"dataframe\">\n",
       "  <thead>\n",
       "    <tr style=\"text-align: right;\">\n",
       "      <th></th>\n",
       "      <th>price</th>\n",
       "      <th>bed</th>\n",
       "      <th>bath</th>\n",
       "      <th>acre_lot</th>\n",
       "      <th>house_size</th>\n",
       "    </tr>\n",
       "  </thead>\n",
       "  <tbody>\n",
       "    <tr>\n",
       "      <th>price</th>\n",
       "      <td>1.000000</td>\n",
       "      <td>0.114728</td>\n",
       "      <td>0.178362</td>\n",
       "      <td>0.015774</td>\n",
       "      <td>0.000254</td>\n",
       "    </tr>\n",
       "    <tr>\n",
       "      <th>bed</th>\n",
       "      <td>0.114728</td>\n",
       "      <td>1.000000</td>\n",
       "      <td>0.611698</td>\n",
       "      <td>-0.000017</td>\n",
       "      <td>0.189635</td>\n",
       "    </tr>\n",
       "    <tr>\n",
       "      <th>bath</th>\n",
       "      <td>0.178362</td>\n",
       "      <td>0.611698</td>\n",
       "      <td>1.000000</td>\n",
       "      <td>-0.000959</td>\n",
       "      <td>0.223709</td>\n",
       "    </tr>\n",
       "    <tr>\n",
       "      <th>acre_lot</th>\n",
       "      <td>0.015774</td>\n",
       "      <td>-0.000017</td>\n",
       "      <td>-0.000959</td>\n",
       "      <td>1.000000</td>\n",
       "      <td>0.000988</td>\n",
       "    </tr>\n",
       "    <tr>\n",
       "      <th>house_size</th>\n",
       "      <td>0.000254</td>\n",
       "      <td>0.189635</td>\n",
       "      <td>0.223709</td>\n",
       "      <td>0.000988</td>\n",
       "      <td>1.000000</td>\n",
       "    </tr>\n",
       "  </tbody>\n",
       "</table>\n",
       "</div>"
      ],
      "text/plain": [
       "               price       bed      bath  acre_lot  house_size\n",
       "price       1.000000  0.114728  0.178362  0.015774    0.000254\n",
       "bed         0.114728  1.000000  0.611698 -0.000017    0.189635\n",
       "bath        0.178362  0.611698  1.000000 -0.000959    0.223709\n",
       "acre_lot    0.015774 -0.000017 -0.000959  1.000000    0.000988\n",
       "house_size  0.000254  0.189635  0.223709  0.000988    1.000000"
      ]
     },
     "execution_count": 9,
     "metadata": {},
     "output_type": "execute_result"
    }
   ],
   "source": [
    "# looking for correlations \n",
    "df_for_corr.corr()"
   ]
  },
  {
   "cell_type": "code",
   "execution_count": 10,
   "id": "bc12e920",
   "metadata": {},
   "outputs": [
    {
     "data": {
      "image/png": "[encoded data removed]",
      "text/plain": [
       "<Figure size 480x480 with 1 Axes>"
      ]
     },
     "metadata": {},
     "output_type": "display_data"
    }
   ],
   "source": [
    "# Create a correlation heatmap using matplotlib\n",
    "\n",
    "plt.matshow(df_for_corr.corr())\n",
    "plt.show()"
   ]
  },
  {
   "cell_type": "code",
   "execution_count": 11,
   "id": "0058dd52",
   "metadata": {},
   "outputs": [
    {
     "data": {
      "image/png": "[encoded data removed]",
      "text/plain": [
       "<Figure size 1000x1000 with 2 Axes>"
      ]
     },
     "metadata": {},
     "output_type": "display_data"
    }
   ],
   "source": [
    "# add a legend \n",
    "\n",
    "f = plt.figure(figsize=(10, 10)) \n",
    "plt.matshow(df_for_corr.corr(), fignum=f.number) \n",
    "plt.xticks(range(df_for_corr.shape[1]), df_for_corr.columns, fontsize=12, rotation=90)\n",
    "plt.yticks(range(df_for_corr.shape[1]), df_for_corr.columns, fontsize=14) \n",
    "cb = plt.colorbar() \n",
    "plt.show()\n"
   ]
  },
  {
   "cell_type": "code",
   "execution_count": 12,
   "id": "5f9b7d22",
   "metadata": {},
   "outputs": [
    {
     "data": {
      "image/png": "[encoded data removed]",
      "text/plain": [
       "<Figure size 1400x1400 with 2 Axes>"
      ]
     },
     "metadata": {},
     "output_type": "display_data"
    }
   ],
   "source": [
    "f,ax = plt.subplots(figsize=(14,14))\n",
    "\n",
    "\n",
    "corr = sns.heatmap(df_for_corr.corr(), annot=True, ax=ax)\n",
    "\n"
   ]
  },
  {
   "cell_type": "markdown",
   "id": "0d2a31c4",
   "metadata": {},
   "source": [
    "### This is quite intresting. There does not seem to be any medium or strong correlation between a house feature and the price\n",
    "### This makes me belive that it is much more depnedent on location. However that I will have to analyse later"
   ]
  },
  {
   "cell_type": "code",
   "execution_count": 13,
   "id": "ee5d865d",
   "metadata": {},
   "outputs": [
    {
     "data": {
      "text/plain": [
       "<seaborn.axisgrid.FacetGrid at 0x14b3d7850>"
      ]
     },
     "execution_count": 13,
     "metadata": {},
     "output_type": "execute_result"
    },
    {
     "data": {
      "image/png": "[encoded data removed]",
      "text/plain": [
       "<Figure size 500x500 with 1 Axes>"
      ]
     },
     "metadata": {},
     "output_type": "display_data"
    }
   ],
   "source": [
    "# I useed the feature of the house that has the highest correlation to the price. Even knowing that is is not significant\n",
    "\n",
    "sns.lmplot(x = 'bath', y = 'price', data = df_for_corr)"
   ]
  },
  {
   "cell_type": "code",
   "execution_count": 14,
   "id": "f0dc507c",
   "metadata": {},
   "outputs": [],
   "source": [
    "### It is interesting to see that while the scatter plot shows a linear correlation, it actually is not.\n",
    "### If we look at the start of the Graph we can see that there are many outliers in which the cost of the house if very high and the bathroom very small\n"
   ]
  },
  {
   "cell_type": "code",
   "execution_count": null,
   "id": "04bba695",
   "metadata": {},
   "outputs": [
    {
     "name": "stderr",
     "output_type": "stream",
     "text": [
      "/opt/anaconda3/lib/python3.11/site-packages/seaborn/_oldcore.py:1119: FutureWarning: use_inf_as_na option is deprecated and will be removed in a future version. Convert inf values to NaN before operating instead.\n",
      "  with pd.option_context('mode.use_inf_as_na', True):\n",
      "/opt/anaconda3/lib/python3.11/site-packages/seaborn/_oldcore.py:1119: FutureWarning: use_inf_as_na option is deprecated and will be removed in a future version. Convert inf values to NaN before operating instead.\n",
      "  with pd.option_context('mode.use_inf_as_na', True):\n",
      "/opt/anaconda3/lib/python3.11/site-packages/seaborn/_oldcore.py:1119: FutureWarning: use_inf_as_na option is deprecated and will be removed in a future version. Convert inf values to NaN before operating instead.\n",
      "  with pd.option_context('mode.use_inf_as_na', True):\n",
      "/opt/anaconda3/lib/python3.11/site-packages/seaborn/_oldcore.py:1119: FutureWarning: use_inf_as_na option is deprecated and will be removed in a future version. Convert inf values to NaN before operating instead.\n",
      "  with pd.option_context('mode.use_inf_as_na', True):\n"
     ]
    }
   ],
   "source": [
    "# pair plot\n",
    "\n",
    "g = sns.pairplot(df_for_corr)"
   ]
  },
  {
   "cell_type": "code",
   "execution_count": null,
   "id": "af903935",
   "metadata": {},
   "outputs": [],
   "source": [
    "sns.histplot(df_for_corr['price'], bins=20, kde=True)"
   ]
  },
  {
   "cell_type": "code",
   "execution_count": null,
   "id": "88c91b62",
   "metadata": {},
   "outputs": [],
   "source": [
    "threshold = df_for_corr['price'].quantile(0.99)  # Adjust the quantile as needed\n",
    "\n",
    "# Remove the outlier\n",
    "df_no_outlier = df_for_corr[df_for_corr['price'] < threshold]\n",
    "\n",
    "# Plot the histogram without the outlier\n",
    "sns.histplot(df_no_outlier['price'], bins=40, kde=True)\n",
    "plt.show()"
   ]
  },
  {
   "cell_type": "code",
   "execution_count": null,
   "id": "395f034c",
   "metadata": {},
   "outputs": [],
   "source": [
    "\n",
    "# Plot the histogram without the outlier\n",
    "sns.histplot(df_for_corr['price'], bins = 40, kde = True)"
   ]
  },
  {
   "cell_type": "code",
   "execution_count": null,
   "id": "e1e9a112",
   "metadata": {},
   "outputs": [],
   "source": [
    "print(df_for_corr['price'].dtype)"
   ]
  },
  {
   "cell_type": "code",
   "execution_count": null,
   "id": "232fd76e",
   "metadata": {},
   "outputs": [],
   "source": [
    "df_for_corr['price'] = pd.to_numeric(df_for_corr['price'], errors='coerce')"
   ]
  },
  {
   "cell_type": "code",
   "execution_count": null,
   "id": "631a0f3d",
   "metadata": {},
   "outputs": [],
   "source": [
    "df_for_corr.loc[df_for_corr['price'] < 300000, 'Price category'] = 'Low price'"
   ]
  },
  {
   "cell_type": "code",
   "execution_count": null,
   "id": "4c04b69e",
   "metadata": {},
   "outputs": [],
   "source": [
    "df_for_corr.loc[(df_for_corr['price'] >= 300000) & (df_for_corr['price'] < 750000), 'Price category'] = 'Medium price'\n"
   ]
  },
  {
   "cell_type": "code",
   "execution_count": null,
   "id": "31008657",
   "metadata": {},
   "outputs": [],
   "source": [
    "df_for_corr.loc[df_for_corr['price'] >= 750000, 'Price category'] = 'High price'"
   ]
  },
  {
   "cell_type": "code",
   "execution_count": null,
   "id": "49f1004d",
   "metadata": {},
   "outputs": [],
   "source": [
    "df_for_corr['Price category'].value_counts(dropna = False)"
   ]
  },
  {
   "cell_type": "code",
   "execution_count": null,
   "id": "221d2dea",
   "metadata": {},
   "outputs": [],
   "source": [
    "## for later g.figure.savefig(os.path.join(path,'hisst_orders_dow.png'))"
   ]
  },
  {
   "cell_type": "code",
   "execution_count": null,
   "id": "b5861ae0",
   "metadata": {},
   "outputs": [],
   "source": []
  }
 ],
 "metadata": {
  "kernelspec": {
   "display_name": "Python 3 (ipykernel)",
   "language": "python",
   "name": "python3"
  },
  "language_info": {
   "codemirror_mode": {
    "name": "ipython",
    "version": 3
   },
   "file_extension": ".py",
   "mimetype": "text/x-python",
   "name": "python",
   "nbconvert_exporter": "python",
   "pygments_lexer": "ipython3",
   "version": "3.11.7"
  }
 },
 "nbformat": 4,
 "nbformat_minor": 5
}
